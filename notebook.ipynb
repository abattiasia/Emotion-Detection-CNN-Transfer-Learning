{
 "cells": [
  {
   "cell_type": "code",
   "execution_count": 1,
   "id": "7d9c702d",
   "metadata": {
    "_cell_guid": "b1076dfc-b9ad-4769-8c92-a6c4dae69d19",
    "_uuid": "8f2839f25d086af736a60e9eeb907d3b93b6e0e5",
    "execution": {
     "iopub.execute_input": "2024-09-24T21:21:44.327377Z",
     "iopub.status.busy": "2024-09-24T21:21:44.326941Z",
     "iopub.status.idle": "2024-09-24T21:21:45.152202Z",
     "shell.execute_reply": "2024-09-24T21:21:45.151094Z"
    },
    "papermill": {
     "duration": 0.835658,
     "end_time": "2024-09-24T21:21:45.154724",
     "exception": false,
     "start_time": "2024-09-24T21:21:44.319066",
     "status": "completed"
    },
    "tags": []
   },
   "outputs": [],
   "source": [
    "# This Python 3 environment comes with many helpful analytics libraries installed\n",
    "# It is defined by the kaggle/python Docker image: https://github.com/kaggle/docker-python\n",
    "# For example, here's several helpful packages to load\n",
    "\n",
    "import numpy as np # linear algebra\n",
    "import pandas as pd # data processing, CSV file I/O (e.g. pd.read_csv)\n",
    "\n",
    "# Input data files are available in the read-only \"../input/\" directory\n",
    "# For example, running this (by clicking run or pressing Shift+Enter) will list all files under the input directory\n",
    "\n",
    "# import os\n",
    "# for dirname, _, filenames in os.walk('/kaggle/input'):\n",
    "#     for filename in filenames:\n",
    "#         print(os.path.join(dirname, filename))\n",
    "\n",
    "# You can write up to 20GB to the current directory (/kaggle/working/) that gets preserved as output when you create a version using \"Save & Run All\" \n",
    "# You can also write temporary files to /kaggle/temp/, but they won't be saved outside of the current session"
   ]
  },
  {
   "cell_type": "code",
   "execution_count": 2,
   "id": "f471deb7",
   "metadata": {
    "execution": {
     "iopub.execute_input": "2024-09-24T21:21:45.167156Z",
     "iopub.status.busy": "2024-09-24T21:21:45.166073Z",
     "iopub.status.idle": "2024-09-24T21:22:01.278450Z",
     "shell.execute_reply": "2024-09-24T21:22:01.277503Z"
    },
    "papermill": {
     "duration": 16.121097,
     "end_time": "2024-09-24T21:22:01.281021",
     "exception": false,
     "start_time": "2024-09-24T21:21:45.159924",
     "status": "completed"
    },
    "tags": []
   },
   "outputs": [],
   "source": [
    "import pandas as pd\n",
    "import numpy as np\n",
    "import matplotlib.pyplot as plt\n",
    "import seaborn as sns\n",
    "import plotly.express as px\n",
    "\n",
    "\n",
    "import tensorflow as tf\n",
    "from tensorflow.keras.preprocessing.image import ImageDataGenerator\n",
    "from tensorflow.keras.utils import to_categorical\n",
    "\n",
    "from sklearn.metrics import confusion_matrix , classification_report \n",
    "\n",
    "import warnings\n",
    "warnings.filterwarnings('ignore')"
   ]
  },
  {
   "cell_type": "code",
   "execution_count": 3,
   "id": "da419364",
   "metadata": {
    "execution": {
     "iopub.execute_input": "2024-09-24T21:22:01.293417Z",
     "iopub.status.busy": "2024-09-24T21:22:01.292299Z",
     "iopub.status.idle": "2024-09-24T21:22:01.297421Z",
     "shell.execute_reply": "2024-09-24T21:22:01.296380Z"
    },
    "papermill": {
     "duration": 0.01354,
     "end_time": "2024-09-24T21:22:01.299683",
     "exception": false,
     "start_time": "2024-09-24T21:22:01.286143",
     "status": "completed"
    },
    "tags": []
   },
   "outputs": [],
   "source": [
    "train_dir = \"../input/emotion-detection-fer/train\"\n",
    "test_dir = \"../input/emotion-detection-fer/test\""
   ]
  },
  {
   "cell_type": "code",
   "execution_count": 4,
   "id": "1e01bf06",
   "metadata": {
    "execution": {
     "iopub.execute_input": "2024-09-24T21:22:01.311455Z",
     "iopub.status.busy": "2024-09-24T21:22:01.310735Z",
     "iopub.status.idle": "2024-09-24T21:22:01.316113Z",
     "shell.execute_reply": "2024-09-24T21:22:01.315018Z"
    },
    "papermill": {
     "duration": 0.013641,
     "end_time": "2024-09-24T21:22:01.318293",
     "exception": false,
     "start_time": "2024-09-24T21:22:01.304652",
     "status": "completed"
    },
    "tags": []
   },
   "outputs": [],
   "source": [
    "IMG_HEIGHT = 48\n",
    "IMG_WIDTH = 48\n",
    "BATCH_SIZE = 64\n",
    "EPOCHS = 50\n",
    "CLASS_LABELS  = ['Anger', 'Disgust', 'Fear', 'Happy', 'Neutral', 'Sadness', \"Surprise\"]\n",
    "NUM_CLASSES = 7"
   ]
  },
  {
   "cell_type": "code",
   "execution_count": 5,
   "id": "4a05f493",
   "metadata": {
    "execution": {
     "iopub.execute_input": "2024-09-24T21:22:01.329700Z",
     "iopub.status.busy": "2024-09-24T21:22:01.329302Z",
     "iopub.status.idle": "2024-09-24T21:22:01.334841Z",
     "shell.execute_reply": "2024-09-24T21:22:01.333788Z"
    },
    "papermill": {
     "duration": 0.013826,
     "end_time": "2024-09-24T21:22:01.337079",
     "exception": false,
     "start_time": "2024-09-24T21:22:01.323253",
     "status": "completed"
    },
    "tags": []
   },
   "outputs": [],
   "source": [
    "# Data generators\n",
    "train_datagen = ImageDataGenerator(horizontal_flip=True,\n",
    "                                   width_shift_range=0.1,\n",
    "                                   height_shift_range=0.05,\n",
    "                                   rescale=1./255,\n",
    "                                   validation_split=0.2)\n",
    "\n",
    "test_datagen = ImageDataGenerator(rescale=1./255, validation_split=0.2)"
   ]
  },
  {
   "cell_type": "code",
   "execution_count": 6,
   "id": "b07b685b",
   "metadata": {
    "execution": {
     "iopub.execute_input": "2024-09-24T21:22:01.349142Z",
     "iopub.status.busy": "2024-09-24T21:22:01.348230Z",
     "iopub.status.idle": "2024-09-24T21:22:26.011366Z",
     "shell.execute_reply": "2024-09-24T21:22:26.010102Z"
    },
    "papermill": {
     "duration": 24.672482,
     "end_time": "2024-09-24T21:22:26.014553",
     "exception": false,
     "start_time": "2024-09-24T21:22:01.342071",
     "status": "completed"
    },
    "tags": []
   },
   "outputs": [
    {
     "name": "stdout",
     "output_type": "stream",
     "text": [
      "Found 22968 images belonging to 7 classes.\n",
      "Found 5741 images belonging to 7 classes.\n",
      "Found 7178 images belonging to 7 classes.\n"
     ]
    }
   ],
   "source": [
    "# Train, validation, and test generators\n",
    "train_generator = train_datagen.flow_from_directory(\n",
    "    directory=train_dir,\n",
    "    target_size=(IMG_HEIGHT, IMG_WIDTH),\n",
    "    batch_size=BATCH_SIZE,\n",
    "    shuffle=True,\n",
    "    color_mode=\"rgb\",\n",
    "    class_mode=\"categorical\",\n",
    "    subset=\"training\"\n",
    ")\n",
    "\n",
    "validation_generator = test_datagen.flow_from_directory(\n",
    "    directory=train_dir,\n",
    "    target_size=(IMG_HEIGHT, IMG_WIDTH),\n",
    "    batch_size=BATCH_SIZE,\n",
    "    shuffle=True,\n",
    "    color_mode=\"rgb\",\n",
    "    class_mode=\"categorical\",\n",
    "    subset=\"validation\"\n",
    ")\n",
    "\n",
    "test_generator = test_datagen.flow_from_directory(\n",
    "    directory=test_dir,\n",
    "    target_size=(IMG_HEIGHT, IMG_WIDTH),\n",
    "    batch_size=BATCH_SIZE,\n",
    "    shuffle=False,\n",
    "    color_mode=\"rgb\",\n",
    "    class_mode=\"categorical\"\n",
    ")"
   ]
  },
  {
   "cell_type": "code",
   "execution_count": 7,
   "id": "2268e1ca",
   "metadata": {
    "execution": {
     "iopub.execute_input": "2024-09-24T21:22:26.027164Z",
     "iopub.status.busy": "2024-09-24T21:22:26.026752Z",
     "iopub.status.idle": "2024-09-24T21:22:26.034735Z",
     "shell.execute_reply": "2024-09-24T21:22:26.033605Z"
    },
    "papermill": {
     "duration": 0.017137,
     "end_time": "2024-09-24T21:22:26.037268",
     "exception": false,
     "start_time": "2024-09-24T21:22:26.020131",
     "status": "completed"
    },
    "tags": []
   },
   "outputs": [],
   "source": [
    "from tensorflow.keras.preprocessing.image import ImageDataGenerator\n",
    "from keras.models import Sequential\n",
    "from keras.layers import Conv2D, MaxPool2D, Dropout, Flatten, Dense\n",
    "from keras.optimizers import Adam"
   ]
  },
  {
   "cell_type": "code",
   "execution_count": 8,
   "id": "6532dfdb",
   "metadata": {
    "execution": {
     "iopub.execute_input": "2024-09-24T21:22:26.049516Z",
     "iopub.status.busy": "2024-09-24T21:22:26.049083Z",
     "iopub.status.idle": "2024-09-24T21:22:26.340964Z",
     "shell.execute_reply": "2024-09-24T21:22:26.339954Z"
    },
    "papermill": {
     "duration": 0.301065,
     "end_time": "2024-09-24T21:22:26.343684",
     "exception": false,
     "start_time": "2024-09-24T21:22:26.042619",
     "status": "completed"
    },
    "tags": []
   },
   "outputs": [],
   "source": [
    "model = Sequential()\n",
    "\n",
    "# First convolutional block\n",
    "model.add(Conv2D(filters=64, kernel_size=(3, 3), padding='same', activation='relu', input_shape=(IMG_HEIGHT, IMG_WIDTH, 3)))\n",
    "model.add(MaxPool2D(pool_size=2, strides=2))\n",
    "\n",
    "# Second convolutional block\n",
    "model.add(Conv2D(filters=128, kernel_size=(3, 3), padding='same', activation='relu'))\n",
    "model.add(MaxPool2D(pool_size=2, strides=2))\n",
    "model.add(Dropout(0.25))\n",
    "\n",
    "# Third convolutional block\n",
    "model.add(Conv2D(filters=128, kernel_size=(3, 3), padding='same', activation='relu'))\n",
    "model.add(MaxPool2D(pool_size=2, strides=2))\n",
    "model.add(Dropout(0.25))\n",
    "\n",
    "# Fourth convolutional block\n",
    "model.add(Conv2D(filters=256, kernel_size=(3, 3), padding='same', activation='relu'))\n",
    "model.add(MaxPool2D(pool_size=2, strides=2))\n",
    "\n",
    "# Flatten and Dense layers\n",
    "model.add(Flatten())\n",
    "model.add(Dense(units=128, activation='relu', kernel_initializer='he_normal'))\n",
    "model.add(Dropout(0.25))\n",
    "model.add(Dense(units=64, activation='relu', kernel_initializer='he_normal'))\n",
    "model.add(Dropout(0.25))\n",
    "model.add(Dense(units=32, activation='relu', kernel_initializer='he_normal'))\n",
    "\n",
    "# Output layer\n",
    "model.add(Dense(7, activation='softmax'))"
   ]
  },
  {
   "cell_type": "code",
   "execution_count": 9,
   "id": "a390cdae",
   "metadata": {
    "execution": {
     "iopub.execute_input": "2024-09-24T21:22:26.355783Z",
     "iopub.status.busy": "2024-09-24T21:22:26.355361Z",
     "iopub.status.idle": "2024-09-24T21:22:26.370110Z",
     "shell.execute_reply": "2024-09-24T21:22:26.368979Z"
    },
    "papermill": {
     "duration": 0.024051,
     "end_time": "2024-09-24T21:22:26.372965",
     "exception": false,
     "start_time": "2024-09-24T21:22:26.348914",
     "status": "completed"
    },
    "tags": []
   },
   "outputs": [],
   "source": [
    "model.compile(\n",
    "    optimizer=Adam(),\n",
    "    loss='categorical_crossentropy',\n",
    "    metrics=['accuracy']\n",
    ")"
   ]
  },
  {
   "cell_type": "code",
   "execution_count": 10,
   "id": "8bff2d50",
   "metadata": {
    "execution": {
     "iopub.execute_input": "2024-09-24T21:22:26.386141Z",
     "iopub.status.busy": "2024-09-24T21:22:26.385697Z",
     "iopub.status.idle": "2024-09-24T23:58:13.366214Z",
     "shell.execute_reply": "2024-09-24T23:58:13.364916Z"
    },
    "papermill": {
     "duration": 9346.989604,
     "end_time": "2024-09-24T23:58:13.368811",
     "exception": false,
     "start_time": "2024-09-24T21:22:26.379207",
     "status": "completed"
    },
    "tags": []
   },
   "outputs": [
    {
     "name": "stdout",
     "output_type": "stream",
     "text": [
      "Epoch 1/50\n",
      "\u001b[1m359/359\u001b[0m \u001b[32m━━━━━━━━━━━━━━━━━━━━\u001b[0m\u001b[37m\u001b[0m \u001b[1m187s\u001b[0m 503ms/step - accuracy: 0.2350 - loss: 1.8344 - val_accuracy: 0.2574 - val_loss: 1.8010\n",
      "Epoch 2/50\n",
      "\u001b[1m359/359\u001b[0m \u001b[32m━━━━━━━━━━━━━━━━━━━━\u001b[0m\u001b[37m\u001b[0m \u001b[1m157s\u001b[0m 434ms/step - accuracy: 0.2519 - loss: 1.7990 - val_accuracy: 0.2644 - val_loss: 1.7769\n",
      "Epoch 3/50\n",
      "\u001b[1m359/359\u001b[0m \u001b[32m━━━━━━━━━━━━━━━━━━━━\u001b[0m\u001b[37m\u001b[0m \u001b[1m161s\u001b[0m 446ms/step - accuracy: 0.2796 - loss: 1.7541 - val_accuracy: 0.3768 - val_loss: 1.5982\n",
      "Epoch 4/50\n",
      "\u001b[1m359/359\u001b[0m \u001b[32m━━━━━━━━━━━━━━━━━━━━\u001b[0m\u001b[37m\u001b[0m \u001b[1m158s\u001b[0m 438ms/step - accuracy: 0.3526 - loss: 1.6326 - val_accuracy: 0.4219 - val_loss: 1.4825\n",
      "Epoch 5/50\n",
      "\u001b[1m359/359\u001b[0m \u001b[32m━━━━━━━━━━━━━━━━━━━━\u001b[0m\u001b[37m\u001b[0m \u001b[1m354s\u001b[0m 862ms/step - accuracy: 0.3981 - loss: 1.5310 - val_accuracy: 0.4379 - val_loss: 1.4358\n",
      "Epoch 6/50\n",
      "\u001b[1m359/359\u001b[0m \u001b[32m━━━━━━━━━━━━━━━━━━━━\u001b[0m\u001b[37m\u001b[0m \u001b[1m633s\u001b[0m 2s/step - accuracy: 0.4358 - loss: 1.4559 - val_accuracy: 0.4795 - val_loss: 1.3446\n",
      "Epoch 7/50\n",
      "\u001b[1m359/359\u001b[0m \u001b[32m━━━━━━━━━━━━━━━━━━━━\u001b[0m\u001b[37m\u001b[0m \u001b[1m158s\u001b[0m 437ms/step - accuracy: 0.4385 - loss: 1.4304 - val_accuracy: 0.4830 - val_loss: 1.3477\n",
      "Epoch 8/50\n",
      "\u001b[1m359/359\u001b[0m \u001b[32m━━━━━━━━━━━━━━━━━━━━\u001b[0m\u001b[37m\u001b[0m \u001b[1m157s\u001b[0m 436ms/step - accuracy: 0.4609 - loss: 1.3968 - val_accuracy: 0.4985 - val_loss: 1.2972\n",
      "Epoch 9/50\n",
      "\u001b[1m359/359\u001b[0m \u001b[32m━━━━━━━━━━━━━━━━━━━━\u001b[0m\u001b[37m\u001b[0m \u001b[1m158s\u001b[0m 436ms/step - accuracy: 0.4759 - loss: 1.3632 - val_accuracy: 0.5177 - val_loss: 1.2684\n",
      "Epoch 10/50\n",
      "\u001b[1m359/359\u001b[0m \u001b[32m━━━━━━━━━━━━━━━━━━━━\u001b[0m\u001b[37m\u001b[0m \u001b[1m202s\u001b[0m 438ms/step - accuracy: 0.4844 - loss: 1.3338 - val_accuracy: 0.5229 - val_loss: 1.2433\n",
      "Epoch 11/50\n",
      "\u001b[1m359/359\u001b[0m \u001b[32m━━━━━━━━━━━━━━━━━━━━\u001b[0m\u001b[37m\u001b[0m \u001b[1m157s\u001b[0m 435ms/step - accuracy: 0.4971 - loss: 1.3155 - val_accuracy: 0.5266 - val_loss: 1.2236\n",
      "Epoch 12/50\n",
      "\u001b[1m359/359\u001b[0m \u001b[32m━━━━━━━━━━━━━━━━━━━━\u001b[0m\u001b[37m\u001b[0m \u001b[1m203s\u001b[0m 439ms/step - accuracy: 0.4965 - loss: 1.3090 - val_accuracy: 0.5316 - val_loss: 1.2320\n",
      "Epoch 13/50\n",
      "\u001b[1m359/359\u001b[0m \u001b[32m━━━━━━━━━━━━━━━━━━━━\u001b[0m\u001b[37m\u001b[0m \u001b[1m157s\u001b[0m 435ms/step - accuracy: 0.5018 - loss: 1.2977 - val_accuracy: 0.5415 - val_loss: 1.2015\n",
      "Epoch 14/50\n",
      "\u001b[1m359/359\u001b[0m \u001b[32m━━━━━━━━━━━━━━━━━━━━\u001b[0m\u001b[37m\u001b[0m \u001b[1m202s\u001b[0m 436ms/step - accuracy: 0.5087 - loss: 1.2804 - val_accuracy: 0.5550 - val_loss: 1.1769\n",
      "Epoch 15/50\n",
      "\u001b[1m359/359\u001b[0m \u001b[32m━━━━━━━━━━━━━━━━━━━━\u001b[0m\u001b[37m\u001b[0m \u001b[1m202s\u001b[0m 437ms/step - accuracy: 0.5187 - loss: 1.2616 - val_accuracy: 0.5468 - val_loss: 1.1997\n",
      "Epoch 16/50\n",
      "\u001b[1m359/359\u001b[0m \u001b[32m━━━━━━━━━━━━━━━━━━━━\u001b[0m\u001b[37m\u001b[0m \u001b[1m202s\u001b[0m 437ms/step - accuracy: 0.5125 - loss: 1.2668 - val_accuracy: 0.5544 - val_loss: 1.1691\n",
      "Epoch 17/50\n",
      "\u001b[1m359/359\u001b[0m \u001b[32m━━━━━━━━━━━━━━━━━━━━\u001b[0m\u001b[37m\u001b[0m \u001b[1m157s\u001b[0m 436ms/step - accuracy: 0.5205 - loss: 1.2617 - val_accuracy: 0.5586 - val_loss: 1.1582\n",
      "Epoch 18/50\n",
      "\u001b[1m359/359\u001b[0m \u001b[32m━━━━━━━━━━━━━━━━━━━━\u001b[0m\u001b[37m\u001b[0m \u001b[1m202s\u001b[0m 435ms/step - accuracy: 0.5263 - loss: 1.2449 - val_accuracy: 0.5586 - val_loss: 1.1602\n",
      "Epoch 19/50\n",
      "\u001b[1m359/359\u001b[0m \u001b[32m━━━━━━━━━━━━━━━━━━━━\u001b[0m\u001b[37m\u001b[0m \u001b[1m157s\u001b[0m 435ms/step - accuracy: 0.5243 - loss: 1.2426 - val_accuracy: 0.5602 - val_loss: 1.1481\n",
      "Epoch 20/50\n",
      "\u001b[1m359/359\u001b[0m \u001b[32m━━━━━━━━━━━━━━━━━━━━\u001b[0m\u001b[37m\u001b[0m \u001b[1m164s\u001b[0m 455ms/step - accuracy: 0.5330 - loss: 1.2311 - val_accuracy: 0.5597 - val_loss: 1.1679\n",
      "Epoch 21/50\n",
      "\u001b[1m359/359\u001b[0m \u001b[32m━━━━━━━━━━━━━━━━━━━━\u001b[0m\u001b[37m\u001b[0m \u001b[1m157s\u001b[0m 435ms/step - accuracy: 0.5424 - loss: 1.2032 - val_accuracy: 0.5591 - val_loss: 1.1553\n",
      "Epoch 22/50\n",
      "\u001b[1m359/359\u001b[0m \u001b[32m━━━━━━━━━━━━━━━━━━━━\u001b[0m\u001b[37m\u001b[0m \u001b[1m157s\u001b[0m 435ms/step - accuracy: 0.5425 - loss: 1.2039 - val_accuracy: 0.5722 - val_loss: 1.1339\n",
      "Epoch 23/50\n",
      "\u001b[1m359/359\u001b[0m \u001b[32m━━━━━━━━━━━━━━━━━━━━\u001b[0m\u001b[37m\u001b[0m \u001b[1m202s\u001b[0m 435ms/step - accuracy: 0.5491 - loss: 1.2008 - val_accuracy: 0.5699 - val_loss: 1.1268\n",
      "Epoch 24/50\n",
      "\u001b[1m359/359\u001b[0m \u001b[32m━━━━━━━━━━━━━━━━━━━━\u001b[0m\u001b[37m\u001b[0m \u001b[1m202s\u001b[0m 436ms/step - accuracy: 0.5441 - loss: 1.2020 - val_accuracy: 0.5762 - val_loss: 1.1194\n",
      "Epoch 25/50\n",
      "\u001b[1m359/359\u001b[0m \u001b[32m━━━━━━━━━━━━━━━━━━━━\u001b[0m\u001b[37m\u001b[0m \u001b[1m202s\u001b[0m 437ms/step - accuracy: 0.5500 - loss: 1.1904 - val_accuracy: 0.5858 - val_loss: 1.1088\n",
      "Epoch 26/50\n",
      "\u001b[1m359/359\u001b[0m \u001b[32m━━━━━━━━━━━━━━━━━━━━\u001b[0m\u001b[37m\u001b[0m \u001b[1m157s\u001b[0m 434ms/step - accuracy: 0.5494 - loss: 1.1921 - val_accuracy: 0.5797 - val_loss: 1.1173\n",
      "Epoch 27/50\n",
      "\u001b[1m359/359\u001b[0m \u001b[32m━━━━━━━━━━━━━━━━━━━━\u001b[0m\u001b[37m\u001b[0m \u001b[1m156s\u001b[0m 432ms/step - accuracy: 0.5573 - loss: 1.1826 - val_accuracy: 0.5757 - val_loss: 1.1203\n",
      "Epoch 28/50\n",
      "\u001b[1m359/359\u001b[0m \u001b[32m━━━━━━━━━━━━━━━━━━━━\u001b[0m\u001b[37m\u001b[0m \u001b[1m155s\u001b[0m 428ms/step - accuracy: 0.5594 - loss: 1.1640 - val_accuracy: 0.5818 - val_loss: 1.1276\n",
      "Epoch 29/50\n",
      "\u001b[1m359/359\u001b[0m \u001b[32m━━━━━━━━━━━━━━━━━━━━\u001b[0m\u001b[37m\u001b[0m \u001b[1m155s\u001b[0m 430ms/step - accuracy: 0.5535 - loss: 1.1733 - val_accuracy: 0.5877 - val_loss: 1.0993\n",
      "Epoch 30/50\n",
      "\u001b[1m359/359\u001b[0m \u001b[32m━━━━━━━━━━━━━━━━━━━━\u001b[0m\u001b[37m\u001b[0m \u001b[1m155s\u001b[0m 430ms/step - accuracy: 0.5560 - loss: 1.1695 - val_accuracy: 0.5877 - val_loss: 1.1029\n",
      "Epoch 31/50\n",
      "\u001b[1m359/359\u001b[0m \u001b[32m━━━━━━━━━━━━━━━━━━━━\u001b[0m\u001b[37m\u001b[0m \u001b[1m156s\u001b[0m 432ms/step - accuracy: 0.5512 - loss: 1.1786 - val_accuracy: 0.5868 - val_loss: 1.0951\n",
      "Epoch 32/50\n",
      "\u001b[1m359/359\u001b[0m \u001b[32m━━━━━━━━━━━━━━━━━━━━\u001b[0m\u001b[37m\u001b[0m \u001b[1m156s\u001b[0m 431ms/step - accuracy: 0.5641 - loss: 1.1580 - val_accuracy: 0.5870 - val_loss: 1.0904\n",
      "Epoch 33/50\n",
      "\u001b[1m359/359\u001b[0m \u001b[32m━━━━━━━━━━━━━━━━━━━━\u001b[0m\u001b[37m\u001b[0m \u001b[1m157s\u001b[0m 435ms/step - accuracy: 0.5690 - loss: 1.1503 - val_accuracy: 0.5865 - val_loss: 1.0906\n",
      "Epoch 34/50\n",
      "\u001b[1m359/359\u001b[0m \u001b[32m━━━━━━━━━━━━━━━━━━━━\u001b[0m\u001b[37m\u001b[0m \u001b[1m200s\u001b[0m 431ms/step - accuracy: 0.5631 - loss: 1.1520 - val_accuracy: 0.5884 - val_loss: 1.0918\n",
      "Epoch 35/50\n",
      "\u001b[1m359/359\u001b[0m \u001b[32m━━━━━━━━━━━━━━━━━━━━\u001b[0m\u001b[37m\u001b[0m \u001b[1m203s\u001b[0m 434ms/step - accuracy: 0.5601 - loss: 1.1498 - val_accuracy: 0.5818 - val_loss: 1.1037\n",
      "Epoch 36/50\n",
      "\u001b[1m359/359\u001b[0m \u001b[32m━━━━━━━━━━━━━━━━━━━━\u001b[0m\u001b[37m\u001b[0m \u001b[1m156s\u001b[0m 432ms/step - accuracy: 0.5595 - loss: 1.1624 - val_accuracy: 0.5875 - val_loss: 1.0942\n",
      "Epoch 37/50\n",
      "\u001b[1m359/359\u001b[0m \u001b[32m━━━━━━━━━━━━━━━━━━━━\u001b[0m\u001b[37m\u001b[0m \u001b[1m200s\u001b[0m 426ms/step - accuracy: 0.5698 - loss: 1.1450 - val_accuracy: 0.5919 - val_loss: 1.0771\n",
      "Epoch 38/50\n",
      "\u001b[1m359/359\u001b[0m \u001b[32m━━━━━━━━━━━━━━━━━━━━\u001b[0m\u001b[37m\u001b[0m \u001b[1m157s\u001b[0m 436ms/step - accuracy: 0.5790 - loss: 1.1209 - val_accuracy: 0.5828 - val_loss: 1.0998\n",
      "Epoch 39/50\n",
      "\u001b[1m359/359\u001b[0m \u001b[32m━━━━━━━━━━━━━━━━━━━━\u001b[0m\u001b[37m\u001b[0m \u001b[1m164s\u001b[0m 454ms/step - accuracy: 0.5728 - loss: 1.1305 - val_accuracy: 0.5898 - val_loss: 1.0853\n",
      "Epoch 40/50\n",
      "\u001b[1m359/359\u001b[0m \u001b[32m━━━━━━━━━━━━━━━━━━━━\u001b[0m\u001b[37m\u001b[0m \u001b[1m158s\u001b[0m 436ms/step - accuracy: 0.5744 - loss: 1.1297 - val_accuracy: 0.5893 - val_loss: 1.0932\n",
      "Epoch 41/50\n",
      "\u001b[1m359/359\u001b[0m \u001b[32m━━━━━━━━━━━━━━━━━━━━\u001b[0m\u001b[37m\u001b[0m \u001b[1m209s\u001b[0m 455ms/step - accuracy: 0.5754 - loss: 1.1260 - val_accuracy: 0.5884 - val_loss: 1.0759\n",
      "Epoch 42/50\n",
      "\u001b[1m359/359\u001b[0m \u001b[32m━━━━━━━━━━━━━━━━━━━━\u001b[0m\u001b[37m\u001b[0m \u001b[1m164s\u001b[0m 453ms/step - accuracy: 0.5754 - loss: 1.1235 - val_accuracy: 0.5893 - val_loss: 1.0820\n",
      "Epoch 43/50\n",
      "\u001b[1m359/359\u001b[0m \u001b[32m━━━━━━━━━━━━━━━━━━━━\u001b[0m\u001b[37m\u001b[0m \u001b[1m158s\u001b[0m 438ms/step - accuracy: 0.5833 - loss: 1.1063 - val_accuracy: 0.6006 - val_loss: 1.0597\n",
      "Epoch 44/50\n",
      "\u001b[1m359/359\u001b[0m \u001b[32m━━━━━━━━━━━━━━━━━━━━\u001b[0m\u001b[37m\u001b[0m \u001b[1m159s\u001b[0m 439ms/step - accuracy: 0.5806 - loss: 1.1175 - val_accuracy: 0.5968 - val_loss: 1.0774\n",
      "Epoch 45/50\n",
      "\u001b[1m359/359\u001b[0m \u001b[32m━━━━━━━━━━━━━━━━━━━━\u001b[0m\u001b[37m\u001b[0m \u001b[1m158s\u001b[0m 437ms/step - accuracy: 0.5858 - loss: 1.0987 - val_accuracy: 0.5891 - val_loss: 1.0902\n",
      "Epoch 46/50\n",
      "\u001b[1m359/359\u001b[0m \u001b[32m━━━━━━━━━━━━━━━━━━━━\u001b[0m\u001b[37m\u001b[0m \u001b[1m202s\u001b[0m 436ms/step - accuracy: 0.5799 - loss: 1.1143 - val_accuracy: 0.6016 - val_loss: 1.0620\n",
      "Epoch 47/50\n",
      "\u001b[1m359/359\u001b[0m \u001b[32m━━━━━━━━━━━━━━━━━━━━\u001b[0m\u001b[37m\u001b[0m \u001b[1m157s\u001b[0m 434ms/step - accuracy: 0.5839 - loss: 1.1098 - val_accuracy: 0.5999 - val_loss: 1.0719\n",
      "Epoch 48/50\n",
      "\u001b[1m359/359\u001b[0m \u001b[32m━━━━━━━━━━━━━━━━━━━━\u001b[0m\u001b[37m\u001b[0m \u001b[1m202s\u001b[0m 435ms/step - accuracy: 0.5831 - loss: 1.1071 - val_accuracy: 0.6044 - val_loss: 1.0525\n",
      "Epoch 49/50\n",
      "\u001b[1m359/359\u001b[0m \u001b[32m━━━━━━━━━━━━━━━━━━━━\u001b[0m\u001b[37m\u001b[0m \u001b[1m202s\u001b[0m 436ms/step - accuracy: 0.5875 - loss: 1.0963 - val_accuracy: 0.6049 - val_loss: 1.0577\n",
      "Epoch 50/50\n",
      "\u001b[1m359/359\u001b[0m \u001b[32m━━━━━━━━━━━━━━━━━━━━\u001b[0m\u001b[37m\u001b[0m \u001b[1m201s\u001b[0m 435ms/step - accuracy: 0.5856 - loss: 1.0963 - val_accuracy: 0.5995 - val_loss: 1.0623\n"
     ]
    }
   ],
   "source": [
    "# Train the model\n",
    "history = model.fit(\n",
    "    x=train_generator,\n",
    "    epochs=EPOCHS,\n",
    "    validation_data=validation_generator\n",
    ")"
   ]
  },
  {
   "cell_type": "code",
   "execution_count": 11,
   "id": "a18452b5",
   "metadata": {
    "execution": {
     "iopub.execute_input": "2024-09-24T23:58:15.861237Z",
     "iopub.status.busy": "2024-09-24T23:58:15.860664Z",
     "iopub.status.idle": "2024-09-24T23:58:16.394136Z",
     "shell.execute_reply": "2024-09-24T23:58:16.393017Z"
    },
    "papermill": {
     "duration": 1.74766,
     "end_time": "2024-09-24T23:58:16.396826",
     "exception": false,
     "start_time": "2024-09-24T23:58:14.649166",
     "status": "completed"
    },
    "tags": []
   },
   "outputs": [
    {
     "data": {
      "image/png": "[encoded data removed]",
      "text/plain": [
       "<Figure size 1200x400 with 2 Axes>"
      ]
     },
     "metadata": {},
     "output_type": "display_data"
    }
   ],
   "source": [
    "import matplotlib.pyplot as plt\n",
    "\n",
    "# Plot accuracy and loss graphs\n",
    "def plot_training_history(history):\n",
    "    # Plot training & validation accuracy values\n",
    "    plt.figure(figsize=(12, 4))\n",
    "    \n",
    "    # Accuracy plot\n",
    "    plt.subplot(1, 2, 1)\n",
    "    plt.plot(history.history['accuracy'])\n",
    "    plt.plot(history.history['val_accuracy'])\n",
    "    plt.title('Model Accuracy')\n",
    "    plt.ylabel('Accuracy')\n",
    "    plt.xlabel('Epoch')\n",
    "    plt.legend(['Train', 'Validation'], loc='upper left')\n",
    "    \n",
    "    # Loss plot\n",
    "    plt.subplot(1, 2, 2)\n",
    "    plt.plot(history.history['loss'])\n",
    "    plt.plot(history.history['val_loss'])\n",
    "    plt.title('Model Loss')\n",
    "    plt.ylabel('Loss')\n",
    "    plt.xlabel('Epoch')\n",
    "    plt.legend(['Train', 'Validation'], loc='upper left')\n",
    "    \n",
    "    plt.show()\n",
    "\n",
    "\n",
    "# Plot the training history\n",
    "plot_training_history(history)\n"
   ]
  },
  {
   "cell_type": "code",
   "execution_count": 12,
   "id": "27cbe65f",
   "metadata": {
    "execution": {
     "iopub.execute_input": "2024-09-24T23:58:18.959864Z",
     "iopub.status.busy": "2024-09-24T23:58:18.959446Z",
     "iopub.status.idle": "2024-09-24T23:58:18.974530Z",
     "shell.execute_reply": "2024-09-24T23:58:18.973251Z"
    },
    "papermill": {
     "duration": 1.300066,
     "end_time": "2024-09-24T23:58:18.977182",
     "exception": false,
     "start_time": "2024-09-24T23:58:17.677116",
     "status": "completed"
    },
    "tags": []
   },
   "outputs": [],
   "source": [
    "from keras.applications import VGG16\n",
    "from tensorflow.keras.layers import GlobalAveragePooling2D"
   ]
  },
  {
   "cell_type": "code",
   "execution_count": 13,
   "id": "00b80f08",
   "metadata": {
    "execution": {
     "iopub.execute_input": "2024-09-24T23:58:21.515726Z",
     "iopub.status.busy": "2024-09-24T23:58:21.514689Z",
     "iopub.status.idle": "2024-09-24T23:58:24.806556Z",
     "shell.execute_reply": "2024-09-24T23:58:24.805507Z"
    },
    "papermill": {
     "duration": 4.530782,
     "end_time": "2024-09-24T23:58:24.809220",
     "exception": false,
     "start_time": "2024-09-24T23:58:20.278438",
     "status": "completed"
    },
    "tags": []
   },
   "outputs": [
    {
     "name": "stdout",
     "output_type": "stream",
     "text": [
      "Downloading data from https://storage.googleapis.com/tensorflow/keras-applications/vgg16/vgg16_weights_tf_dim_ordering_tf_kernels_notop.h5\n",
      "\u001b[1m58889256/58889256\u001b[0m \u001b[32m━━━━━━━━━━━━━━━━━━━━\u001b[0m\u001b[37m\u001b[0m \u001b[1m3s\u001b[0m 0us/step\n"
     ]
    }
   ],
   "source": [
    "# Load the pre-trained VGG16 model without the top classification layers\n",
    "vgg_base = VGG16(weights='imagenet', include_top=False, input_shape=(IMG_HEIGHT, IMG_WIDTH, 3))\n",
    "\n",
    "# Freeze the VGG16 base layers (these won't be trained)\n",
    "vgg_base.trainable = False"
   ]
  },
  {
   "cell_type": "code",
   "execution_count": 14,
   "id": "1a88ad39",
   "metadata": {
    "execution": {
     "iopub.execute_input": "2024-09-24T23:58:27.358696Z",
     "iopub.status.busy": "2024-09-24T23:58:27.358241Z",
     "iopub.status.idle": "2024-09-24T23:58:27.376261Z",
     "shell.execute_reply": "2024-09-24T23:58:27.375032Z"
    },
    "papermill": {
     "duration": 1.290757,
     "end_time": "2024-09-24T23:58:27.378663",
     "exception": false,
     "start_time": "2024-09-24T23:58:26.087906",
     "status": "completed"
    },
    "tags": []
   },
   "outputs": [],
   "source": [
    "       # Build the Sequential model\n",
    "model2 = Sequential()\n",
    "\n",
    "# Add the pre-trained VGG16 base model\n",
    "model2.add(vgg_base)\n",
    "\n",
    "# Add a pooling layer to reduce the output from the VGG model (either Flatten or GlobalAveragePooling)\n",
    "model2.add(GlobalAveragePooling2D())\n",
    "\n",
    "# Add Dense layers on top for the new classification task\n",
    "model2.add(Dense(units=128, activation='relu'))\n",
    "model2.add(Dropout(0.25))\n",
    "model2.add(Dense(units=64, activation='relu'))\n",
    "model2.add(Dropout(0.25))\n",
    "\n",
    "# Output layer for 7 classes (adjust the number based on your dataset)\n",
    "model2.add(Dense(units=7, activation='softmax'))"
   ]
  },
  {
   "cell_type": "code",
   "execution_count": 15,
   "id": "4a4bc16c",
   "metadata": {
    "execution": {
     "iopub.execute_input": "2024-09-24T23:58:29.882826Z",
     "iopub.status.busy": "2024-09-24T23:58:29.882368Z",
     "iopub.status.idle": "2024-09-25T04:52:21.993440Z",
     "shell.execute_reply": "2024-09-25T04:52:21.992216Z"
    },
    "papermill": {
     "duration": 17635.890632,
     "end_time": "2024-09-25T04:52:24.539970",
     "exception": false,
     "start_time": "2024-09-24T23:58:28.649338",
     "status": "completed"
    },
    "tags": []
   },
   "outputs": [
    {
     "name": "stdout",
     "output_type": "stream",
     "text": [
      "Epoch 1/50\n",
      "\u001b[1m359/359\u001b[0m \u001b[32m━━━━━━━━━━━━━━━━━━━━\u001b[0m\u001b[37m\u001b[0m \u001b[1m333s\u001b[0m 919ms/step - accuracy: 0.2670 - loss: 1.7961 - val_accuracy: 0.3628 - val_loss: 1.6266\n",
      "Epoch 2/50\n",
      "\u001b[1m359/359\u001b[0m \u001b[32m━━━━━━━━━━━━━━━━━━━━\u001b[0m\u001b[37m\u001b[0m \u001b[1m330s\u001b[0m 916ms/step - accuracy: 0.3419 - loss: 1.6541 - val_accuracy: 0.3635 - val_loss: 1.5990\n",
      "Epoch 3/50\n",
      "\u001b[1m359/359\u001b[0m \u001b[32m━━━━━━━━━━━━━━━━━━━━\u001b[0m\u001b[37m\u001b[0m \u001b[1m331s\u001b[0m 918ms/step - accuracy: 0.3553 - loss: 1.6333 - val_accuracy: 0.3893 - val_loss: 1.5703\n",
      "Epoch 4/50\n",
      "\u001b[1m359/359\u001b[0m \u001b[32m━━━━━━━━━━━━━━━━━━━━\u001b[0m\u001b[37m\u001b[0m \u001b[1m382s\u001b[0m 920ms/step - accuracy: 0.3704 - loss: 1.5970 - val_accuracy: 0.3980 - val_loss: 1.5603\n",
      "Epoch 5/50\n",
      "\u001b[1m359/359\u001b[0m \u001b[32m━━━━━━━━━━━━━━━━━━━━\u001b[0m\u001b[37m\u001b[0m \u001b[1m381s\u001b[0m 918ms/step - accuracy: 0.3862 - loss: 1.5776 - val_accuracy: 0.3984 - val_loss: 1.5495\n",
      "Epoch 6/50\n",
      "\u001b[1m359/359\u001b[0m \u001b[32m━━━━━━━━━━━━━━━━━━━━\u001b[0m\u001b[37m\u001b[0m \u001b[1m330s\u001b[0m 916ms/step - accuracy: 0.3798 - loss: 1.5828 - val_accuracy: 0.3957 - val_loss: 1.5480\n",
      "Epoch 7/50\n",
      "\u001b[1m359/359\u001b[0m \u001b[32m━━━━━━━━━━━━━━━━━━━━\u001b[0m\u001b[37m\u001b[0m \u001b[1m330s\u001b[0m 917ms/step - accuracy: 0.3882 - loss: 1.5662 - val_accuracy: 0.4053 - val_loss: 1.5331\n",
      "Epoch 8/50\n",
      "\u001b[1m359/359\u001b[0m \u001b[32m━━━━━━━━━━━━━━━━━━━━\u001b[0m\u001b[37m\u001b[0m \u001b[1m384s\u001b[0m 924ms/step - accuracy: 0.3908 - loss: 1.5652 - val_accuracy: 0.4041 - val_loss: 1.5292\n",
      "Epoch 9/50\n",
      "\u001b[1m359/359\u001b[0m \u001b[32m━━━━━━━━━━━━━━━━━━━━\u001b[0m\u001b[37m\u001b[0m \u001b[1m381s\u001b[0m 923ms/step - accuracy: 0.3924 - loss: 1.5585 - val_accuracy: 0.4031 - val_loss: 1.5395\n",
      "Epoch 10/50\n",
      "\u001b[1m359/359\u001b[0m \u001b[32m━━━━━━━━━━━━━━━━━━━━\u001b[0m\u001b[37m\u001b[0m \u001b[1m331s\u001b[0m 919ms/step - accuracy: 0.4042 - loss: 1.5437 - val_accuracy: 0.4144 - val_loss: 1.5251\n",
      "Epoch 11/50\n",
      "\u001b[1m359/359\u001b[0m \u001b[32m━━━━━━━━━━━━━━━━━━━━\u001b[0m\u001b[37m\u001b[0m \u001b[1m333s\u001b[0m 924ms/step - accuracy: 0.4034 - loss: 1.5336 - val_accuracy: 0.4093 - val_loss: 1.5220\n",
      "Epoch 12/50\n",
      "\u001b[1m359/359\u001b[0m \u001b[32m━━━━━━━━━━━━━━━━━━━━\u001b[0m\u001b[37m\u001b[0m \u001b[1m332s\u001b[0m 922ms/step - accuracy: 0.4136 - loss: 1.5239 - val_accuracy: 0.4147 - val_loss: 1.5150\n",
      "Epoch 13/50\n",
      "\u001b[1m359/359\u001b[0m \u001b[32m━━━━━━━━━━━━━━━━━━━━\u001b[0m\u001b[37m\u001b[0m \u001b[1m382s\u001b[0m 924ms/step - accuracy: 0.4116 - loss: 1.5110 - val_accuracy: 0.4219 - val_loss: 1.5101\n",
      "Epoch 14/50\n",
      "\u001b[1m359/359\u001b[0m \u001b[32m━━━━━━━━━━━━━━━━━━━━\u001b[0m\u001b[37m\u001b[0m \u001b[1m381s\u001b[0m 921ms/step - accuracy: 0.4159 - loss: 1.5113 - val_accuracy: 0.4208 - val_loss: 1.5102\n",
      "Epoch 15/50\n",
      "\u001b[1m359/359\u001b[0m \u001b[32m━━━━━━━━━━━━━━━━━━━━\u001b[0m\u001b[37m\u001b[0m \u001b[1m331s\u001b[0m 918ms/step - accuracy: 0.4172 - loss: 1.5000 - val_accuracy: 0.4241 - val_loss: 1.5071\n",
      "Epoch 16/50\n",
      "\u001b[1m359/359\u001b[0m \u001b[32m━━━━━━━━━━━━━━━━━━━━\u001b[0m\u001b[37m\u001b[0m \u001b[1m382s\u001b[0m 918ms/step - accuracy: 0.4209 - loss: 1.5020 - val_accuracy: 0.4180 - val_loss: 1.5084\n",
      "Epoch 17/50\n",
      "\u001b[1m359/359\u001b[0m \u001b[32m━━━━━━━━━━━━━━━━━━━━\u001b[0m\u001b[37m\u001b[0m \u001b[1m332s\u001b[0m 921ms/step - accuracy: 0.4110 - loss: 1.5111 - val_accuracy: 0.4238 - val_loss: 1.4983\n",
      "Epoch 18/50\n",
      "\u001b[1m359/359\u001b[0m \u001b[32m━━━━━━━━━━━━━━━━━━━━\u001b[0m\u001b[37m\u001b[0m \u001b[1m382s\u001b[0m 921ms/step - accuracy: 0.4224 - loss: 1.4803 - val_accuracy: 0.4271 - val_loss: 1.4988\n",
      "Epoch 19/50\n",
      "\u001b[1m359/359\u001b[0m \u001b[32m━━━━━━━━━━━━━━━━━━━━\u001b[0m\u001b[37m\u001b[0m \u001b[1m332s\u001b[0m 921ms/step - accuracy: 0.4241 - loss: 1.4815 - val_accuracy: 0.4240 - val_loss: 1.5024\n",
      "Epoch 20/50\n",
      "\u001b[1m359/359\u001b[0m \u001b[32m━━━━━━━━━━━━━━━━━━━━\u001b[0m\u001b[37m\u001b[0m \u001b[1m330s\u001b[0m 917ms/step - accuracy: 0.4284 - loss: 1.4791 - val_accuracy: 0.4215 - val_loss: 1.5002\n",
      "Epoch 21/50\n",
      "\u001b[1m359/359\u001b[0m \u001b[32m━━━━━━━━━━━━━━━━━━━━\u001b[0m\u001b[37m\u001b[0m \u001b[1m335s\u001b[0m 931ms/step - accuracy: 0.4247 - loss: 1.4805 - val_accuracy: 0.4208 - val_loss: 1.4979\n",
      "Epoch 22/50\n",
      "\u001b[1m359/359\u001b[0m \u001b[32m━━━━━━━━━━━━━━━━━━━━\u001b[0m\u001b[37m\u001b[0m \u001b[1m385s\u001b[0m 941ms/step - accuracy: 0.4329 - loss: 1.4652 - val_accuracy: 0.4257 - val_loss: 1.4981\n",
      "Epoch 23/50\n",
      "\u001b[1m359/359\u001b[0m \u001b[32m━━━━━━━━━━━━━━━━━━━━\u001b[0m\u001b[37m\u001b[0m \u001b[1m337s\u001b[0m 935ms/step - accuracy: 0.4308 - loss: 1.4640 - val_accuracy: 0.4205 - val_loss: 1.5009\n",
      "Epoch 24/50\n",
      "\u001b[1m359/359\u001b[0m \u001b[32m━━━━━━━━━━━━━━━━━━━━\u001b[0m\u001b[37m\u001b[0m \u001b[1m334s\u001b[0m 927ms/step - accuracy: 0.4379 - loss: 1.4578 - val_accuracy: 0.4315 - val_loss: 1.4965\n",
      "Epoch 25/50\n",
      "\u001b[1m359/359\u001b[0m \u001b[32m━━━━━━━━━━━━━━━━━━━━\u001b[0m\u001b[37m\u001b[0m \u001b[1m380s\u001b[0m 923ms/step - accuracy: 0.4399 - loss: 1.4456 - val_accuracy: 0.4283 - val_loss: 1.4970\n",
      "Epoch 26/50\n",
      "\u001b[1m359/359\u001b[0m \u001b[32m━━━━━━━━━━━━━━━━━━━━\u001b[0m\u001b[37m\u001b[0m \u001b[1m383s\u001b[0m 925ms/step - accuracy: 0.4368 - loss: 1.4601 - val_accuracy: 0.4269 - val_loss: 1.5013\n",
      "Epoch 27/50\n",
      "\u001b[1m359/359\u001b[0m \u001b[32m━━━━━━━━━━━━━━━━━━━━\u001b[0m\u001b[37m\u001b[0m \u001b[1m333s\u001b[0m 924ms/step - accuracy: 0.4421 - loss: 1.4601 - val_accuracy: 0.4241 - val_loss: 1.4977\n",
      "Epoch 28/50\n",
      "\u001b[1m359/359\u001b[0m \u001b[32m━━━━━━━━━━━━━━━━━━━━\u001b[0m\u001b[37m\u001b[0m \u001b[1m333s\u001b[0m 924ms/step - accuracy: 0.4464 - loss: 1.4365 - val_accuracy: 0.4266 - val_loss: 1.4923\n",
      "Epoch 29/50\n",
      "\u001b[1m359/359\u001b[0m \u001b[32m━━━━━━━━━━━━━━━━━━━━\u001b[0m\u001b[37m\u001b[0m \u001b[1m342s\u001b[0m 950ms/step - accuracy: 0.4416 - loss: 1.4495 - val_accuracy: 0.4261 - val_loss: 1.5002\n",
      "Epoch 30/50\n",
      "\u001b[1m359/359\u001b[0m \u001b[32m━━━━━━━━━━━━━━━━━━━━\u001b[0m\u001b[37m\u001b[0m \u001b[1m382s\u001b[0m 951ms/step - accuracy: 0.4401 - loss: 1.4357 - val_accuracy: 0.4342 - val_loss: 1.4881\n",
      "Epoch 31/50\n",
      "\u001b[1m359/359\u001b[0m \u001b[32m━━━━━━━━━━━━━━━━━━━━\u001b[0m\u001b[37m\u001b[0m \u001b[1m377s\u001b[0m 937ms/step - accuracy: 0.4444 - loss: 1.4401 - val_accuracy: 0.4285 - val_loss: 1.5038\n",
      "Epoch 32/50\n",
      "\u001b[1m359/359\u001b[0m \u001b[32m━━━━━━━━━━━━━━━━━━━━\u001b[0m\u001b[37m\u001b[0m \u001b[1m381s\u001b[0m 936ms/step - accuracy: 0.4475 - loss: 1.4273 - val_accuracy: 0.4254 - val_loss: 1.4934\n",
      "Epoch 33/50\n",
      "\u001b[1m359/359\u001b[0m \u001b[32m━━━━━━━━━━━━━━━━━━━━\u001b[0m\u001b[37m\u001b[0m \u001b[1m335s\u001b[0m 931ms/step - accuracy: 0.4430 - loss: 1.4324 - val_accuracy: 0.4308 - val_loss: 1.4870\n",
      "Epoch 34/50\n",
      "\u001b[1m359/359\u001b[0m \u001b[32m━━━━━━━━━━━━━━━━━━━━\u001b[0m\u001b[37m\u001b[0m \u001b[1m338s\u001b[0m 938ms/step - accuracy: 0.4539 - loss: 1.4178 - val_accuracy: 0.4254 - val_loss: 1.4917\n",
      "Epoch 35/50\n",
      "\u001b[1m359/359\u001b[0m \u001b[32m━━━━━━━━━━━━━━━━━━━━\u001b[0m\u001b[37m\u001b[0m \u001b[1m336s\u001b[0m 932ms/step - accuracy: 0.4580 - loss: 1.4170 - val_accuracy: 0.4327 - val_loss: 1.4902\n",
      "Epoch 36/50\n",
      "\u001b[1m359/359\u001b[0m \u001b[32m━━━━━━━━━━━━━━━━━━━━\u001b[0m\u001b[37m\u001b[0m \u001b[1m337s\u001b[0m 935ms/step - accuracy: 0.4544 - loss: 1.4180 - val_accuracy: 0.4285 - val_loss: 1.4926\n",
      "Epoch 37/50\n",
      "\u001b[1m359/359\u001b[0m \u001b[32m━━━━━━━━━━━━━━━━━━━━\u001b[0m\u001b[37m\u001b[0m \u001b[1m382s\u001b[0m 936ms/step - accuracy: 0.4552 - loss: 1.4211 - val_accuracy: 0.4355 - val_loss: 1.4837\n",
      "Epoch 38/50\n",
      "\u001b[1m359/359\u001b[0m \u001b[32m━━━━━━━━━━━━━━━━━━━━\u001b[0m\u001b[37m\u001b[0m \u001b[1m338s\u001b[0m 938ms/step - accuracy: 0.4547 - loss: 1.4161 - val_accuracy: 0.4269 - val_loss: 1.4960\n",
      "Epoch 39/50\n",
      "\u001b[1m359/359\u001b[0m \u001b[32m━━━━━━━━━━━━━━━━━━━━\u001b[0m\u001b[37m\u001b[0m \u001b[1m339s\u001b[0m 942ms/step - accuracy: 0.4565 - loss: 1.4150 - val_accuracy: 0.4229 - val_loss: 1.5101\n",
      "Epoch 40/50\n",
      "\u001b[1m359/359\u001b[0m \u001b[32m━━━━━━━━━━━━━━━━━━━━\u001b[0m\u001b[37m\u001b[0m \u001b[1m341s\u001b[0m 948ms/step - accuracy: 0.4626 - loss: 1.4060 - val_accuracy: 0.4329 - val_loss: 1.4886\n",
      "Epoch 41/50\n",
      "\u001b[1m359/359\u001b[0m \u001b[32m━━━━━━━━━━━━━━━━━━━━\u001b[0m\u001b[37m\u001b[0m \u001b[1m380s\u001b[0m 943ms/step - accuracy: 0.4661 - loss: 1.4020 - val_accuracy: 0.4337 - val_loss: 1.4862\n",
      "Epoch 42/50\n",
      "\u001b[1m359/359\u001b[0m \u001b[32m━━━━━━━━━━━━━━━━━━━━\u001b[0m\u001b[37m\u001b[0m \u001b[1m339s\u001b[0m 941ms/step - accuracy: 0.4620 - loss: 1.4152 - val_accuracy: 0.4360 - val_loss: 1.4948\n",
      "Epoch 43/50\n",
      "\u001b[1m359/359\u001b[0m \u001b[32m━━━━━━━━━━━━━━━━━━━━\u001b[0m\u001b[37m\u001b[0m \u001b[1m381s\u001b[0m 941ms/step - accuracy: 0.4688 - loss: 1.3876 - val_accuracy: 0.4320 - val_loss: 1.4950\n",
      "Epoch 44/50\n",
      "\u001b[1m359/359\u001b[0m \u001b[32m━━━━━━━━━━━━━━━━━━━━\u001b[0m\u001b[37m\u001b[0m \u001b[1m337s\u001b[0m 937ms/step - accuracy: 0.4632 - loss: 1.3962 - val_accuracy: 0.4329 - val_loss: 1.4877\n",
      "Epoch 45/50\n",
      "\u001b[1m359/359\u001b[0m \u001b[32m━━━━━━━━━━━━━━━━━━━━\u001b[0m\u001b[37m\u001b[0m \u001b[1m339s\u001b[0m 941ms/step - accuracy: 0.4606 - loss: 1.4054 - val_accuracy: 0.4275 - val_loss: 1.4996\n",
      "Epoch 46/50\n",
      "\u001b[1m359/359\u001b[0m \u001b[32m━━━━━━━━━━━━━━━━━━━━\u001b[0m\u001b[37m\u001b[0m \u001b[1m383s\u001b[0m 944ms/step - accuracy: 0.4651 - loss: 1.3853 - val_accuracy: 0.4320 - val_loss: 1.4942\n",
      "Epoch 47/50\n",
      "\u001b[1m359/359\u001b[0m \u001b[32m━━━━━━━━━━━━━━━━━━━━\u001b[0m\u001b[37m\u001b[0m \u001b[1m338s\u001b[0m 939ms/step - accuracy: 0.4610 - loss: 1.4052 - val_accuracy: 0.4342 - val_loss: 1.5017\n",
      "Epoch 48/50\n",
      "\u001b[1m359/359\u001b[0m \u001b[32m━━━━━━━━━━━━━━━━━━━━\u001b[0m\u001b[37m\u001b[0m \u001b[1m337s\u001b[0m 935ms/step - accuracy: 0.4655 - loss: 1.3903 - val_accuracy: 0.4353 - val_loss: 1.4911\n",
      "Epoch 49/50\n",
      "\u001b[1m359/359\u001b[0m \u001b[32m━━━━━━━━━━━━━━━━━━━━\u001b[0m\u001b[37m\u001b[0m \u001b[1m339s\u001b[0m 942ms/step - accuracy: 0.4686 - loss: 1.3895 - val_accuracy: 0.4315 - val_loss: 1.5000\n",
      "Epoch 50/50\n",
      "\u001b[1m359/359\u001b[0m \u001b[32m━━━━━━━━━━━━━━━━━━━━\u001b[0m\u001b[37m\u001b[0m \u001b[1m381s\u001b[0m 940ms/step - accuracy: 0.4681 - loss: 1.3921 - val_accuracy: 0.4360 - val_loss: 1.4980\n"
     ]
    }
   ],
   "source": [
    "# Compile the model\n",
    "model2.compile(optimizer=Adam(), loss='categorical_crossentropy', metrics=['accuracy'])\n",
    "\n",
    "# Train the model\n",
    "history2 = model2.fit(\n",
    "    x=train_generator,\n",
    "    epochs=EPOCHS,\n",
    "    validation_data=validation_generator\n",
    ")"
   ]
  },
  {
   "cell_type": "code",
   "execution_count": 16,
   "id": "2aa45539",
   "metadata": {
    "execution": {
     "iopub.execute_input": "2024-09-25T04:52:29.712531Z",
     "iopub.status.busy": "2024-09-25T04:52:29.712109Z",
     "iopub.status.idle": "2024-09-25T04:52:30.206790Z",
     "shell.execute_reply": "2024-09-25T04:52:30.205715Z"
    },
    "papermill": {
     "duration": 3.119154,
     "end_time": "2024-09-25T04:52:30.209260",
     "exception": false,
     "start_time": "2024-09-25T04:52:27.090106",
     "status": "completed"
    },
    "tags": []
   },
   "outputs": [
    {
     "data": {
      "image/png": "[encoded data removed]",
      "text/plain": [
       "<Figure size 1200x400 with 2 Axes>"
      ]
     },
     "metadata": {},
     "output_type": "display_data"
    }
   ],
   "source": [
    "# Plot training accuracy and loss\n",
    "plot_training_history(history2)"
   ]
  },
  {
   "cell_type": "code",
   "execution_count": 17,
   "id": "6a8c8dc9",
   "metadata": {
    "execution": {
     "iopub.execute_input": "2024-09-25T04:52:35.318150Z",
     "iopub.status.busy": "2024-09-25T04:52:35.316777Z",
     "iopub.status.idle": "2024-09-25T04:52:35.463476Z",
     "shell.execute_reply": "2024-09-25T04:52:35.462285Z"
    },
    "papermill": {
     "duration": 2.703499,
     "end_time": "2024-09-25T04:52:35.466243",
     "exception": false,
     "start_time": "2024-09-25T04:52:32.762744",
     "status": "completed"
    },
    "tags": []
   },
   "outputs": [],
   "source": [
    "# save model \n",
    "model2.save('my_model.h5')"
   ]
  },
  {
   "cell_type": "markdown",
   "id": "af3acef6",
   "metadata": {
    "papermill": {
     "duration": 2.624757,
     "end_time": "2024-09-25T04:52:40.613418",
     "exception": false,
     "start_time": "2024-09-25T04:52:37.988661",
     "status": "completed"
    },
    "tags": []
   },
   "source": [
    "## Notes : \n",
    "- GlobalAveragePooling2D : \n",
    "    - The VGG16 model (vgg_base) outputs a feature map (high-dimensional tensor) rather than predictions, as we set include_top=False. This means that the model does not include its original fully connected (dense) layers and output layer, which are responsible for classification.\n",
    "    - This layer takes the average of all elements in each feature map, converting the 2D spatial dimensions (height and width) into a single number. It effectively reduces the output dimensionality while retaining important information.\n",
    "    - Pooling or flattening reduces the dimensionality of the output from the pre-trained network, making it suitable for the fully connected layers you add next.\n",
    "\n",
    "<br>\n",
    "\n",
    "- Dense Layers \n",
    "    - The Dense (fully connected) layers are necessary for making the final classification based on the features extracted by the pre-trained model\n",
    "    - It learns to combine the features extracted by VGG16 and adapt them to the specific task at hand.\n",
    "        \n",
    "<br>\n",
    "\n",
    "- Dropout Layer (0.25):\n",
    "    - Dropout is a regularization technique that randomly sets 25% of the neurons to 0 during training, helping to prevent overfitting.\n",
    "    \n",
    " <br>\n",
    "    \n",
    "- Dense Layer 2 (64 units):\n",
    "    - This is an additional fully connected layer that allows the model to learn more complex patterns and refine the features learned by the first dense layer.\n",
    " \n",
    "<br>\n",
    " \n",
    "![](https://miro.medium.com/v2/resize:fit:1400/format:webp/0*dakaUOSfAFoexZRZ.png)"
   ]
  },
  {
   "cell_type": "code",
   "execution_count": null,
   "id": "a9d3fa3a",
   "metadata": {
    "papermill": {
     "duration": 2.534463,
     "end_time": "2024-09-25T04:52:45.732869",
     "exception": false,
     "start_time": "2024-09-25T04:52:43.198406",
     "status": "completed"
    },
    "tags": []
   },
   "outputs": [],
   "source": []
  }
 ],
 "metadata": {
  "kaggle": {
   "accelerator": "none",
   "dataSources": [
    {
     "datasetId": 1028436,
     "sourceId": 1732825,
     "sourceType": "datasetVersion"
    }
   ],
   "dockerImageVersionId": 30775,
   "isGpuEnabled": false,
   "isInternetEnabled": true,
   "language": "python",
   "sourceType": "notebook"
  },
  "kernelspec": {
   "display_name": "Python 3",
   "language": "python",
   "name": "python3"
  },
  "language_info": {
   "codemirror_mode": {
    "name": "ipython",
    "version": 3
   },
   "file_extension": ".py",
   "mimetype": "text/x-python",
   "name": "python",
   "nbconvert_exporter": "python",
   "pygments_lexer": "ipython3",
   "version": "3.10.14"
  },
  "papermill": {
   "default_parameters": {},
   "duration": 27068.76857,
   "end_time": "2024-09-25T04:52:50.282760",
   "environment_variables": {},
   "exception": null,
   "input_path": "__notebook__.ipynb",
   "output_path": "__notebook__.ipynb",
   "parameters": {},
   "start_time": "2024-09-24T21:21:41.514190",
   "version": "2.6.0"
  }
 },
 "nbformat": 4,
 "nbformat_minor": 5
}
